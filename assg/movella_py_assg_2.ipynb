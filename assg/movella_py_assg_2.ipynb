{
 "cells": [
  {
   "cell_type": "code",
   "execution_count": null,
   "metadata": {},
   "outputs": [],
   "source": [
    "try:\n",
    "    with open('log.txt', 'r') as reader:\n",
    "        with open('errlog.txt', 'w') as writer1:\n",
    "            with open('inflog.txt', 'w') as writer2:\n",
    "                with open('deblog.txt', 'w') as writer3:\n",
    "                    for i in reader:\n",
    "                        if \"err\" in i:\n",
    "                            writer1.writelines(i)\n",
    "                        elif \"info\" in i:\n",
    "                            writer2.writelines(i)\n",
    "                        elif \"debug\" in i:\n",
    "                            writer3.writelines(i)\n",
    "except FileNotFoundError as e:\n",
    "    print(\"Error Message:\",e)"
   ]
  }
 ],
 "metadata": {
  "kernelspec": {
   "display_name": "Python 3.9.7 ('base')",
   "language": "python",
   "name": "python3"
  },
  "language_info": {
   "name": "python",
   "version": "3.9.7"
  },
  "orig_nbformat": 4,
  "vscode": {
   "interpreter": {
    "hash": "f50a58dcf2b487b5dd82be25f727c18f3e50b5a46f4caf2c87cdd7b26d11f50b"
   }
  }
 },
 "nbformat": 4,
 "nbformat_minor": 2
}
